{
 "cells": [
  {
   "cell_type": "markdown",
   "id": "01c558f7-e057-41ba-8fca-f3f6b3481100",
   "metadata": {},
   "source": [
    "### Week 3: Exploring Linguistic Isolation in LA County\n",
    "This notebook explores linguistic isolation at the census tract level across LA county using census data. (Author: Aron Walker, with significant attribution to Yoh Kawano's instructions & models)"
   ]
  },
  {
   "cell_type": "markdown",
   "id": "2d98e4e4-1a97-4e4d-8136-fa163bc8931d",
   "metadata": {},
   "source": [
    "#### Step 0: Setting up libraries and data"
   ]
  },
  {
   "cell_type": "code",
   "execution_count": null,
   "id": "34bc91df-e1bb-4dba-ada2-e2e2edb11c4a",
   "metadata": {},
   "outputs": [],
   "source": [
    "# Here are the libraries I will use:\n",
    "import pandas as xp\n",
    "import geopandas as xg"
   ]
  },
  {
   "cell_type": "code",
   "execution_count": null,
   "id": "a3086219-c607-497d-93c4-1d9fe2aede3e",
   "metadata": {},
   "outputs": [],
   "source": [
    "# Here is the data I will use:\n",
    "csv_name = ''\n",
    "data = xp.read_csv(csv_name)"
   ]
  },
  {
   "cell_type": "markdown",
   "id": "a0e65c5e-c94d-42c1-a483-ff3075c0a8a9",
   "metadata": {},
   "source": [
    "#### Step 1: Exploring the structure of the census data\n",
    "\n",
    "In this section, I:\n",
    "\n",
    "* count the number of rows and columns\n",
    "* identify the types of data in each column\n",
    "* look at a few rows to get a sense of the inputs"
   ]
  },
  {
   "cell_type": "code",
   "execution_count": null,
   "id": "767d996e-d7b1-482e-a2a1-d22b8f3f4b0f",
   "metadata": {},
   "outputs": [],
   "source": [
    "# What are its dimensions?\n",
    "data.shape"
   ]
  },
  {
   "cell_type": "code",
   "execution_count": null,
   "id": "d8156a1a-4723-4bdc-a927-c4188ba91661",
   "metadata": {},
   "outputs": [],
   "source": [
    "# What types of data are present?\n",
    "data.info(verbose=True, show_counts=True)"
   ]
  },
  {
   "cell_type": "code",
   "execution_count": null,
   "id": "ba3e84ca-c57f-44c6-9ab2-7e7dab41ba85",
   "metadata": {},
   "outputs": [],
   "source": [
    "# What do the first few rows look like?\n",
    "data.head()"
   ]
  },
  {
   "cell_type": "code",
   "execution_count": null,
   "id": "bbf24ad2-3b35-49e1-8e06-71f74ce18164",
   "metadata": {},
   "outputs": [],
   "source": [
    "# What do the last few rows look like?\n",
    "data.tail()"
   ]
  },
  {
   "cell_type": "code",
   "execution_count": null,
   "id": "389069f7-3b7e-4bb5-9840-9dbb2c62024f",
   "metadata": {},
   "outputs": [],
   "source": [
    "# What do some random rows look like?\n",
    "data.sample()"
   ]
  },
  {
   "cell_type": "markdown",
   "id": "12276244-7ee1-46ea-8122-33ab3267f6fc",
   "metadata": {},
   "source": [
    "#### Step 2: Limiting the data to what interests me\n",
    "\n",
    "For each census tract, I really only want:\n",
    "\n",
    "* unique identifier for the tract\n",
    "* total population\n",
    "* linguistic isolation score\n",
    "\n",
    "Also, I want the columns to have legible names."
   ]
  },
  {
   "cell_type": "code",
   "execution_count": null,
   "id": "d5b96b2a-f46c-4d6f-b145-3a04e36ea0f0",
   "metadata": {},
   "outputs": [],
   "source": [
    "# Here are the columns I want in census-speak:\n",
    "columns_of_interest = ['Geo_FIPS',\n",
    "                   'SE_T004_019',\n",
    "                   'SE_T004_001',\n",
    "                   'SE_T004_003',\n",
    "                   'SE_T004_005',\n",
    "                   'SE_T004_007',\n",
    "                   'SE_T004_009',\n",
    "                   'SE_T004_011',\n",
    "                   'SE_T004_013',\n",
    "                   'SE_T004_015',\n",
    "                   'SE_T004_017']\n",
    "\n",
    "# Here is the data with just those columns:\n",
    "data2 = data[columns_of_interest]\n",
    "\n",
    "# And let's name those columns with plain language\n",
    "data2.columns_of_interest = ['FIPS',\n",
    "'TotalPop',\n",
    "'Non Hispanic',\n",
    "'Non Hispanic White Alone',\n",
    "'Non Hispanic Black Alone',\n",
    "'Non Hispanic American Indian and Alaska Native Alone',\n",
    "'Non Hispanic Asian Alone',\n",
    "'Non Hispanic Native Hawaiian and Pacific Islander Alone',\n",
    "'Non Hispanic Other Alone',\n",
    "'Non Hispanic Multi Race',\n",
    "'Hispanic']"
   ]
  },
  {
   "cell_type": "markdown",
   "id": "5990e58d-4184-4d60-a451-7d5f0cc75b3d",
   "metadata": {},
   "source": [
    "Finally, I only want census tracts with people."
   ]
  },
  {
   "cell_type": "code",
   "execution_count": null,
   "id": "ae08c08a-83da-4515-ad16-e22a0187cb90",
   "metadata": {},
   "outputs": [],
   "source": [
    "# Drop the rows (tracts) without people\n",
    "data2 = data2[data2['TotalPop']>0]"
   ]
  },
  {
   "cell_type": "markdown",
   "id": "3b8ec3fe-78c0-402c-90a7-9fe2e5c176e5",
   "metadata": {},
   "source": [
    "#### Step 3: Explore the data's distribution"
   ]
  }
 ],
 "metadata": {
  "kernelspec": {
   "display_name": "Python 3 (ipykernel)",
   "language": "python",
   "name": "python3"
  },
  "language_info": {
   "codemirror_mode": {
    "name": "ipython",
    "version": 3
   },
   "file_extension": ".py",
   "mimetype": "text/x-python",
   "name": "python",
   "nbconvert_exporter": "python",
   "pygments_lexer": "ipython3",
   "version": "3.10.8"
  }
 },
 "nbformat": 4,
 "nbformat_minor": 5
}
