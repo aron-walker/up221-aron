{
 "cells": [
  {
   "cell_type": "markdown",
   "id": "01c558f7-e057-41ba-8fca-f3f6b3481100",
   "metadata": {},
   "source": [
    "### Week 3: Exploring Linguistic Isolation in LA County\n",
    "This notebook explores linguistic isolation at the census tract level across LA county using census data. (Author: Aron Walker, with significant attribution to Yoh Kawano's instructions & models)"
   ]
  },
  {
   "cell_type": "code",
   "execution_count": null,
   "id": "34bc91df-e1bb-4dba-ada2-e2e2edb11c4a",
   "metadata": {},
   "outputs": [],
   "source": [
    "# Here are the libraries I will use:\n",
    "import pandas as xp\n",
    "import geopandas as xg"
   ]
  },
  {
   "cell_type": "markdown",
   "id": "d7200606-0d9f-4637-93f2-66976104f2b3",
   "metadata": {},
   "source": []
  }
 ],
 "metadata": {
  "kernelspec": {
   "display_name": "Python 3 (ipykernel)",
   "language": "python",
   "name": "python3"
  },
  "language_info": {
   "codemirror_mode": {
    "name": "ipython",
    "version": 3
   },
   "file_extension": ".py",
   "mimetype": "text/x-python",
   "name": "python",
   "nbconvert_exporter": "python",
   "pygments_lexer": "ipython3",
   "version": "3.10.8"
  }
 },
 "nbformat": 4,
 "nbformat_minor": 5
}
